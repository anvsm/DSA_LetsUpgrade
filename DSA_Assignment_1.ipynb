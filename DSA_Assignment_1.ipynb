{
  "nbformat": 4,
  "nbformat_minor": 0,
  "metadata": {
    "colab": {
      "name": "DSA Assignment 1.ipynb",
      "provenance": [],
      "collapsed_sections": []
    },
    "kernelspec": {
      "name": "python3",
      "display_name": "Python 3"
    }
  },
  "cells": [
    {
      "cell_type": "code",
      "metadata": {
        "colab": {
          "base_uri": "https://localhost:8080/",
          "height": 0
        },
        "id": "9F86ym3u_Fde",
        "outputId": "6810aff1-8cde-46f3-9d5a-17e054bb6588"
      },
      "source": [
        "# 1) Program to take two numbers as an input and print X**Y\r\n",
        "\r\n",
        "X = int(input(\"Enter the first Number: \"))\r\n",
        "Y = int(input(\"Enter the second Number: \"))\r\n",
        "result = X**Y\r\n",
        "print(result)"
      ],
      "execution_count": 3,
      "outputs": [
        {
          "output_type": "stream",
          "text": [
            "Enter the first Number: 4\n",
            "Enter the second Number: 3\n",
            "64\n"
          ],
          "name": "stdout"
        }
      ]
    },
    {
      "cell_type": "code",
      "metadata": {
        "colab": {
          "base_uri": "https://localhost:8080/",
          "height": 0
        },
        "id": "3ygn_nw1_YtP",
        "outputId": "1e7b23c6-b190-4037-e84c-28242d8de8e8"
      },
      "source": [
        "# 2) Program to print the numbers in the list which are divisible by 3\r\n",
        "\r\n",
        "lst = [1,2,3,6,9,15,24,13,19]\r\n",
        "\r\n",
        "for i in lst:\r\n",
        "  if i%3 == 0:\r\n",
        "    print(i)"
      ],
      "execution_count": 11,
      "outputs": [
        {
          "output_type": "stream",
          "text": [
            "3\n",
            "6\n",
            "9\n",
            "15\n",
            "24\n"
          ],
          "name": "stdout"
        }
      ]
    },
    {
      "cell_type": "code",
      "metadata": {
        "id": "hv9Ouj9wAJOw"
      },
      "source": [
        ""
      ],
      "execution_count": null,
      "outputs": []
    }
  ]
}